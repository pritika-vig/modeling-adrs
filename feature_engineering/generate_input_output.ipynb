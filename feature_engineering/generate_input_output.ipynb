{
  "nbformat": 4,
  "nbformat_minor": 0,
  "metadata": {
    "colab": {
      "provenance": [],
      "machine_shape": "hm",
      "authorship_tag": "ABX9TyM4IYRbVnGSKVLGQVX7mZmS",
      "include_colab_link": true
    },
    "kernelspec": {
      "name": "python3",
      "display_name": "Python 3"
    },
    "language_info": {
      "name": "python"
    }
  },
  "cells": [
    {
      "cell_type": "markdown",
      "metadata": {
        "id": "view-in-github",
        "colab_type": "text"
      },
      "source": [
        "<a href=\"https://colab.research.google.com/github/pritika-vig/modeling-adrs/blob/main/feature_engineering/generate_input_output.ipynb\" target=\"_parent\"><img src=\"https://colab.research.google.com/assets/colab-badge.svg\" alt=\"Open In Colab\"/></a>"
      ]
    },
    {
      "cell_type": "code",
      "source": [
        "# Install required packages\n",
        "!pip install --quiet google-cloud-bigquery pandas"
      ],
      "metadata": {
        "id": "lTY0Hj8ixX5l"
      },
      "execution_count": null,
      "outputs": []
    },
    {
      "cell_type": "code",
      "source": [
        "# Authenticate with Google Cloud\n",
        "from google.colab import auth\n",
        "auth.authenticate_user()"
      ],
      "metadata": {
        "id": "60Uo71_hxbB9"
      },
      "execution_count": null,
      "outputs": []
    },
    {
      "cell_type": "code",
      "source": [
        "\n",
        "from google.cloud import bigquery\n",
        "import pandas as pd\n",
        "import numpy as np\n"
      ],
      "metadata": {
        "id": "BHtuaMiXxcSL"
      },
      "execution_count": null,
      "outputs": []
    },
    {
      "cell_type": "code",
      "source": [
        "# Set up BigQuery client\n",
        "project_id = \"mit-mlhc-class-450518\"\n",
        "client = bigquery.Client(project=project_id)"
      ],
      "metadata": {
        "id": "0AgrX8sUxduh"
      },
      "execution_count": null,
      "outputs": []
    },
    {
      "cell_type": "code",
      "source": [
        "# SQL query to get ICU stays that are at least 4 days long\n",
        "query = \"\"\"\n",
        "WITH long_stays AS (\n",
        "  SELECT icustay_id, subject_id, hadm_id, intime, outtime\n",
        "  FROM `physionet-data.mimiciii_clinical.icustays`\n",
        "  WHERE DATETIME_DIFF(outtime, intime, DAY) >= 4\n",
        "),\n",
        "input_events_mv AS (\n",
        "  SELECT icustay_id, itemid, starttime AS event_time\n",
        "  FROM `physionet-data.mimiciii_clinical.inputevents_mv`\n",
        "  WHERE icustay_id IS NOT NULL\n",
        "),\n",
        "input_events_cv AS (\n",
        "  SELECT icustay_id, itemid, charttime AS event_time\n",
        "  FROM `physionet-data.mimiciii_clinical.inputevents_cv`\n",
        "  WHERE icustay_id IS NOT NULL\n",
        "),\n",
        "output_events AS (\n",
        "  SELECT icustay_id, itemid, charttime AS event_time\n",
        "  FROM `physionet-data.mimiciii_clinical.outputevents`\n",
        "  WHERE icustay_id IS NOT NULL\n",
        "),\n",
        "all_events AS (\n",
        "  SELECT * FROM input_events_mv\n",
        "  UNION ALL\n",
        "  SELECT * FROM input_events_cv\n",
        "  UNION ALL\n",
        "  SELECT * FROM output_events\n",
        "),\n",
        "events_3day AS (\n",
        "  SELECT e.icustay_id, e.itemid\n",
        "  FROM all_events e\n",
        "  JOIN long_stays s ON e.icustay_id = s.icustay_id\n",
        "  WHERE e.event_time BETWEEN s.intime AND TIMESTAMP_ADD(s.intime, INTERVAL 3 DAY)\n",
        ")\n",
        "SELECT icustay_id, itemid\n",
        "FROM events_3day\n",
        "\"\"\"\n",
        "\n",
        "# Run the query and load into DataFrame\n",
        "job = client.query(query)\n",
        "df = job.to_dataframe()"
      ],
      "metadata": {
        "id": "XFj-_BGBxmKP"
      },
      "execution_count": null,
      "outputs": []
    },
    {
      "cell_type": "code",
      "source": [],
      "metadata": {
        "id": "PTaRFZMTySHB"
      },
      "execution_count": null,
      "outputs": []
    },
    {
      "cell_type": "code",
      "execution_count": null,
      "metadata": {
        "id": "fjXzpUt9xWm1"
      },
      "outputs": [],
      "source": [
        "# MIMIC-III ICU Input/Output Events One-Hot Encoding for First 3 Days\n",
        "\n",
        "\n",
        "df_grouped = pd.crosstab(df['icustay_id'], df['itemid'].astype(str)).astype(pd.SparseDtype(\"int\", fill_value=0))\n"
      ]
    },
    {
      "cell_type": "code",
      "source": [
        "from google.colab import drive\n",
        "drive.mount('/content/drive')\n",
        "\n",
        "# Replace with your actual path\n",
        "label_path = '/content/drive/My Drive/physionet/adr_icustay.csv'\n",
        "df_labels = pd.read_csv(label_path)\n",
        "\n",
        "# Ensure icustay_id is the correct type\n",
        "df_labels['icustay_id'] = df_labels['icustay_id'].astype(df_grouped.index.dtype)"
      ],
      "metadata": {
        "colab": {
          "base_uri": "https://localhost:8080/"
        },
        "id": "tRKdNj7ExoVP",
        "outputId": "a0a3d793-48f1-42d5-8705-476162ba088f"
      },
      "execution_count": null,
      "outputs": [
        {
          "output_type": "stream",
          "name": "stdout",
          "text": [
            "Drive already mounted at /content/drive; to attempt to forcibly remount, call drive.mount(\"/content/drive\", force_remount=True).\n"
          ]
        }
      ]
    },
    {
      "cell_type": "code",
      "source": [
        "df_combined = df_grouped.join(df_labels.set_index('icustay_id'), how='inner')"
      ],
      "metadata": {
        "id": "hjTS06md1hbF"
      },
      "execution_count": null,
      "outputs": []
    },
    {
      "cell_type": "code",
      "source": [
        "from sklearn.svm import LinearSVC\n",
        "from sklearn.feature_selection import SelectFromModel\n",
        "\n",
        "# Define features (X) and labels (y)\n",
        "X = df_combined.drop(columns=['ADR'])\n",
        "y = df_combined['ADR']\n",
        "\n",
        "# Use linear SVM for feature selection\n",
        "svc = LinearSVC(C=0.01, penalty=\"l1\", dual=False, max_iter=5000).fit(X, y)\n",
        "model = SelectFromModel(svc, prefit=True)\n",
        "\n",
        "# Reduce feature set\n",
        "X_selected = model.transform(X)\n",
        "\n",
        "# Optional: get selected feature names\n",
        "selected_features = X.columns[model.get_support()]"
      ],
      "metadata": {
        "colab": {
          "base_uri": "https://localhost:8080/"
        },
        "id": "H0fkYmL61tr4",
        "outputId": "d78ad471-9ac0-40b7-d419-2f5a991cd081"
      },
      "execution_count": null,
      "outputs": [
        {
          "output_type": "stream",
          "name": "stderr",
          "text": [
            "/usr/local/lib/python3.11/dist-packages/sklearn/utils/validation.py:2732: UserWarning: X has feature names, but SelectFromModel was fitted without feature names\n",
            "  warnings.warn(\n"
          ]
        }
      ]
    },
    {
      "cell_type": "code",
      "source": [
        "\n",
        "selected_mask = model.get_support()\n",
        "selected_features = X.columns[selected_mask]\n",
        "selected_coefs = svc.coef_[0][selected_mask]\n",
        "\n",
        "# Map itemids to human-readable labels\n",
        "selected_features_readable = [itemid_to_label.get(fid, fid) for fid in selected_features]\n",
        "\n",
        "# Create DataFrame with readable names\n",
        "coef_df = pd.DataFrame({\n",
        "    'feature': selected_features_readable,\n",
        "    'coefficient': selected_coefs\n",
        "})\n",
        "\n",
        "# Sort by coefficient values\n",
        "top_positive = coef_df.sort_values(by='coefficient', ascending=False).head(10)\n",
        "top_negative = coef_df.sort_values(by='coefficient', ascending=True).head(10)\n",
        "\n",
        "# Print results\n",
        "print(\"🔺 Top 10 features predicting ADR=1:\")\n",
        "print(top_positive)\n",
        "\n",
        "print(\"\\n🔻 Top 10 features predicting ADR=0:\")\n",
        "print(top_negative)"
      ],
      "metadata": {
        "colab": {
          "base_uri": "https://localhost:8080/"
        },
        "id": "1FwnBCJ315oe",
        "outputId": "4d968e26-3f99-4097-8e2a-9a3bf5a8fa5c"
      },
      "execution_count": null,
      "outputs": [
        {
          "output_type": "stream",
          "name": "stdout",
          "text": [
            "🔺 Top 10 features predicting ADR=1:\n",
            "                  feature  coefficient\n",
            "27              Acyclovir     0.030691\n",
            "161        NA Acetate/H2O     0.017703\n",
            "69        Glucerna (Full)     0.017520\n",
            "4       Calcium Gluconate     0.015021\n",
            "158          Protonix gtt     0.014738\n",
            "160  cerebral drain right     0.013906\n",
            "34          TPN w/ Lipids     0.013571\n",
            "66       Acetaminophen-IV     0.012166\n",
            "35     TPN without Lipids     0.007748\n",
            "56             Pigtail #2     0.007468\n",
            "\n",
            "🔻 Top 10 features predicting ADR=0:\n",
            "                      feature  coefficient\n",
            "28                 Ampicillin    -0.005459\n",
            "42                   GT Flush    -0.004104\n",
            "50                  JP Medial    -0.004016\n",
            "60  Magnesium Sulfate (Bolus)    -0.003356\n",
            "48              Chest Tube #2    -0.002810\n",
            "8                    Dopamine    -0.002795\n",
            "2                  Amiodarone    -0.002213\n",
            "64                   Dilantin    -0.002064\n",
            "88           Free Water Bolus    -0.002053\n",
            "58                TF Residual    -0.001695\n"
          ]
        }
      ]
    },
    {
      "cell_type": "code",
      "source": [
        "query_ditems = \"\"\"\n",
        "SELECT itemid, label\n",
        "FROM `physionet-data.mimiciii_clinical.d_items`\n",
        "\"\"\"\n",
        "\n",
        "df_ditems = client.query(query_ditems).to_dataframe()\n",
        "df_ditems['itemid'] = df_ditems['itemid'].astype(str)  # Match dtype"
      ],
      "metadata": {
        "id": "JRgwsDy82hr2"
      },
      "execution_count": null,
      "outputs": []
    },
    {
      "cell_type": "code",
      "source": [
        "itemid_to_label = dict(zip(df_ditems['itemid'], df_ditems['label']))"
      ],
      "metadata": {
        "id": "EyBqty3w21eK"
      },
      "execution_count": null,
      "outputs": []
    },
    {
      "cell_type": "code",
      "source": [
        "X_selected_df = pd.DataFrame.sparse.from_spmatrix(\n",
        "    X_selected,\n",
        "    index=df_combined.index,\n",
        "    columns=selected_features\n",
        ")\n",
        "\n",
        "# Now rename columns using d_items mapping\n",
        "X_renamed = X_selected_df.rename(columns=itemid_to_label)"
      ],
      "metadata": {
        "id": "jGcvK2My2zRf"
      },
      "execution_count": null,
      "outputs": []
    },
    {
      "cell_type": "code",
      "source": [
        "df_out = X_renamed.reset_index()\n",
        "df_out.to_csv('/content/drive/My Drive/physionet/input_output_features.csv', index=False)\n"
      ],
      "metadata": {
        "id": "ZYaLq-Yy3KYs"
      },
      "execution_count": null,
      "outputs": []
    }
  ]
}